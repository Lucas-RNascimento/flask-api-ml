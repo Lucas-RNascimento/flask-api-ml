{
 "cells": [
  {
   "cell_type": "markdown",
   "id": "36a59efa-42e5-4549-b438-cd8a4430e960",
   "metadata": {},
   "source": [
    "### Importar Bibliotecas"
   ]
  },
  {
   "cell_type": "code",
   "execution_count": 4,
   "id": "56e868b8-50a9-4fb0-a4d9-c584b7fbe848",
   "metadata": {},
   "outputs": [],
   "source": [
    "import numpy as np\n",
    "import pandas as pd\n",
    "import joblib\n",
    "from flask import Flask, request, jsonify, render_template\n",
    "import requests"
   ]
  },
  {
   "cell_type": "markdown",
   "id": "a9bbef6b-b390-44b4-a27e-cdf848ea03a5",
   "metadata": {},
   "source": [
    "### Input"
   ]
  },
  {
   "cell_type": "code",
   "execution_count": 23,
   "id": "a28cf7a7-60f9-4023-ad82-955c2556e2cb",
   "metadata": {},
   "outputs": [],
   "source": [
    "input_json = {\n",
    "    'sepal length (cm)' : 5,\n",
    "    'sepal width (cm)': 4,\n",
    "    'petal length (cm)': 1,\n",
    "    'petal width (cm)': 0.2\n",
    "}"
   ]
  },
  {
   "cell_type": "markdown",
   "id": "2a55f6b1-2c2f-4c10-a32c-e537097cc58e",
   "metadata": {},
   "source": [
    "### Request"
   ]
  },
  {
   "cell_type": "code",
   "execution_count": 27,
   "id": "e4714bc3-3f8b-4e21-a0e0-d2b1fd1f9251",
   "metadata": {},
   "outputs": [],
   "source": [
    "url = 'http://127.0.0.1:5000/predict'\n",
    "headers = {'Content-type': 'application/json'}\n",
    "\n",
    "r = requests.post(url = url, json=input_json , headers= headers)"
   ]
  },
  {
   "cell_type": "markdown",
   "id": "9476dabb-3ca4-440b-bfe8-32819726c281",
   "metadata": {},
   "source": [
    "### Return"
   ]
  },
  {
   "cell_type": "code",
   "execution_count": 29,
   "id": "d99d85fb-cb2f-4f8e-977e-dda63528a87c",
   "metadata": {},
   "outputs": [
    {
     "data": {
      "text/plain": [
       "<Response [200]>"
      ]
     },
     "execution_count": 29,
     "metadata": {},
     "output_type": "execute_result"
    }
   ],
   "source": [
    "r"
   ]
  },
  {
   "cell_type": "code",
   "execution_count": 31,
   "id": "64ab1e06-befa-4da6-b30f-a4835f39e0ed",
   "metadata": {},
   "outputs": [
    {
     "name": "stdout",
     "output_type": "stream",
     "text": [
      "Status Code: 200\n",
      "Response Text: {\"prediction\":[0]}\n",
      "\n"
     ]
    }
   ],
   "source": [
    "print(\"Status Code:\", r.status_code)\n",
    "print(\"Response Text:\", r.text)"
   ]
  },
  {
   "cell_type": "code",
   "execution_count": 33,
   "id": "20db0d5d-0d27-4f39-8d6d-b06c6fc6b14f",
   "metadata": {},
   "outputs": [
    {
     "data": {
      "text/plain": [
       "{'prediction': [0]}"
      ]
     },
     "execution_count": 33,
     "metadata": {},
     "output_type": "execute_result"
    }
   ],
   "source": [
    "r.json()"
   ]
  },
  {
   "cell_type": "code",
   "execution_count": null,
   "id": "ef62d051-9667-4e48-be6b-0a3fe9775ad7",
   "metadata": {},
   "outputs": [],
   "source": []
  }
 ],
 "metadata": {
  "kernelspec": {
   "display_name": "Python [conda env:base] *",
   "language": "python",
   "name": "conda-base-py"
  },
  "language_info": {
   "codemirror_mode": {
    "name": "ipython",
    "version": 3
   },
   "file_extension": ".py",
   "mimetype": "text/x-python",
   "name": "python",
   "nbconvert_exporter": "python",
   "pygments_lexer": "ipython3",
   "version": "3.12.7"
  }
 },
 "nbformat": 4,
 "nbformat_minor": 5
}
